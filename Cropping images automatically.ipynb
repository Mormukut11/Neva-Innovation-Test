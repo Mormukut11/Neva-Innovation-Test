{
 "cells": [
  {
   "cell_type": "code",
   "execution_count": 5,
   "metadata": {
    "collapsed": true
   },
   "outputs": [],
   "source": [
    "from PIL import Image\n",
    "import os.path, sys\n",
    "\n",
    "path = \"/home/mukut/Downloads/ML_Assignment_Neva Innovation_Jul'18-20180804T034827Z-001/ML_Assignment_Neva Innovation_Jul_18/10_Original_Sample\"\n",
    "dirs = os.listdir(path)\n",
    "\n",
    "def crop():\n",
    "    for item in dirs:\n",
    "        fullpath = os.path.join(path,item)         \n",
    "        if os.path.isfile(fullpath):\n",
    "            im = Image.open(fullpath)\n",
    "            f, e = os.path.splitext(fullpath)\n",
    "            imCrop = im.crop((30, 10, 3286, 1806)) \n",
    "            imCrop.save(f + 'Cropped.bmp', \"BMP\", quality=100)\n",
    "\n",
    "crop()"
   ]
  },
  {
   "cell_type": "code",
   "execution_count": null,
   "metadata": {
    "collapsed": true
   },
   "outputs": [],
   "source": []
  }
 ],
 "metadata": {
  "kernelspec": {
   "display_name": "Python 3",
   "language": "python",
   "name": "python3"
  },
  "language_info": {
   "codemirror_mode": {
    "name": "ipython",
    "version": 3
   },
   "file_extension": ".py",
   "mimetype": "text/x-python",
   "name": "python",
   "nbconvert_exporter": "python",
   "pygments_lexer": "ipython3",
   "version": "3.6.3"
  }
 },
 "nbformat": 4,
 "nbformat_minor": 2
}
